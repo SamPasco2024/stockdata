{
  "nbformat": 4,
  "nbformat_minor": 0,
  "metadata": {
    "colab": {
      "name": "RedGreenWhite.ipynb",
      "provenance": [],
      "authorship_tag": "ABX9TyOMe+CYPvhfR/xTyqr9bp/i",
      "include_colab_link": true
    },
    "kernelspec": {
      "name": "python3",
      "display_name": "Python 3"
    },
    "language_info": {
      "name": "python"
    }
  },
  "cells": [
    {
      "cell_type": "markdown",
      "metadata": {
        "id": "view-in-github",
        "colab_type": "text"
      },
      "source": [
        "<a href=\"https://colab.research.google.com/github/SamPasco2024/stockdata/blob/main/RedGreenWhite.ipynb\" target=\"_parent\"><img src=\"https://colab.research.google.com/assets/colab-badge.svg\" alt=\"Open In Colab\"/></a>"
      ]
    },
    {
      "cell_type": "code",
      "execution_count": null,
      "metadata": {
        "colab": {
          "base_uri": "https://localhost:8080/",
          "height": 424
        },
        "id": "0lZ9PE_iVeyb",
        "outputId": "c2970d40-fdb7-4cd9-e623-09e51c5e077e"
      },
      "outputs": [
        {
          "output_type": "execute_result",
          "data": {
            "text/plain": [
              "             Date     Open    High      Low     Close  FW Moving Average 25  \\\n",
              "0     44693.51389  388.750  389.31  388.260  389.1950              389.4085   \n",
              "1     44693.51528  389.195  390.07  388.695  389.7100              389.3806   \n",
              "2     44693.51667  389.710  389.83  389.290  389.5600              389.3487   \n",
              "3     44693.51806  389.560  390.31  389.450  390.0500              389.3606   \n",
              "4     44693.51944  390.060  390.83  389.980  390.7135              389.4291   \n",
              "...           ...      ...     ...      ...       ...                   ...   \n",
              "1610  44705.58333  391.300  391.68  391.260  391.4700              390.7673   \n",
              "1611  44705.58472  391.470  391.65  390.850  390.9200              390.8159   \n",
              "1612  44705.58611  390.920  391.22  390.840  391.1000              390.8731   \n",
              "1613  44705.58750  391.100  391.19  390.670  390.9600              390.9145   \n",
              "1614  44705.58873  390.960  391.40  390.950  391.3100              390.9773   \n",
              "\n",
              "        RWG  \n",
              "0     White  \n",
              "1     Green  \n",
              "2     White  \n",
              "3     Green  \n",
              "4     Green  \n",
              "...     ...  \n",
              "1610  White  \n",
              "1611    Red  \n",
              "1612  White  \n",
              "1613  White  \n",
              "1614  Green  \n",
              "\n",
              "[1615 rows x 7 columns]"
            ],
            "text/html": [
              "\n",
              "  <div id=\"df-13cd455f-d659-4077-ac30-46140d3ed98d\">\n",
              "    <div class=\"colab-df-container\">\n",
              "      <div>\n",
              "<style scoped>\n",
              "    .dataframe tbody tr th:only-of-type {\n",
              "        vertical-align: middle;\n",
              "    }\n",
              "\n",
              "    .dataframe tbody tr th {\n",
              "        vertical-align: top;\n",
              "    }\n",
              "\n",
              "    .dataframe thead th {\n",
              "        text-align: right;\n",
              "    }\n",
              "</style>\n",
              "<table border=\"1\" class=\"dataframe\">\n",
              "  <thead>\n",
              "    <tr style=\"text-align: right;\">\n",
              "      <th></th>\n",
              "      <th>Date</th>\n",
              "      <th>Open</th>\n",
              "      <th>High</th>\n",
              "      <th>Low</th>\n",
              "      <th>Close</th>\n",
              "      <th>FW Moving Average 25</th>\n",
              "      <th>RWG</th>\n",
              "    </tr>\n",
              "  </thead>\n",
              "  <tbody>\n",
              "    <tr>\n",
              "      <th>0</th>\n",
              "      <td>44693.51389</td>\n",
              "      <td>388.750</td>\n",
              "      <td>389.31</td>\n",
              "      <td>388.260</td>\n",
              "      <td>389.1950</td>\n",
              "      <td>389.4085</td>\n",
              "      <td>White</td>\n",
              "    </tr>\n",
              "    <tr>\n",
              "      <th>1</th>\n",
              "      <td>44693.51528</td>\n",
              "      <td>389.195</td>\n",
              "      <td>390.07</td>\n",
              "      <td>388.695</td>\n",
              "      <td>389.7100</td>\n",
              "      <td>389.3806</td>\n",
              "      <td>Green</td>\n",
              "    </tr>\n",
              "    <tr>\n",
              "      <th>2</th>\n",
              "      <td>44693.51667</td>\n",
              "      <td>389.710</td>\n",
              "      <td>389.83</td>\n",
              "      <td>389.290</td>\n",
              "      <td>389.5600</td>\n",
              "      <td>389.3487</td>\n",
              "      <td>White</td>\n",
              "    </tr>\n",
              "    <tr>\n",
              "      <th>3</th>\n",
              "      <td>44693.51806</td>\n",
              "      <td>389.560</td>\n",
              "      <td>390.31</td>\n",
              "      <td>389.450</td>\n",
              "      <td>390.0500</td>\n",
              "      <td>389.3606</td>\n",
              "      <td>Green</td>\n",
              "    </tr>\n",
              "    <tr>\n",
              "      <th>4</th>\n",
              "      <td>44693.51944</td>\n",
              "      <td>390.060</td>\n",
              "      <td>390.83</td>\n",
              "      <td>389.980</td>\n",
              "      <td>390.7135</td>\n",
              "      <td>389.4291</td>\n",
              "      <td>Green</td>\n",
              "    </tr>\n",
              "    <tr>\n",
              "      <th>...</th>\n",
              "      <td>...</td>\n",
              "      <td>...</td>\n",
              "      <td>...</td>\n",
              "      <td>...</td>\n",
              "      <td>...</td>\n",
              "      <td>...</td>\n",
              "      <td>...</td>\n",
              "    </tr>\n",
              "    <tr>\n",
              "      <th>1610</th>\n",
              "      <td>44705.58333</td>\n",
              "      <td>391.300</td>\n",
              "      <td>391.68</td>\n",
              "      <td>391.260</td>\n",
              "      <td>391.4700</td>\n",
              "      <td>390.7673</td>\n",
              "      <td>White</td>\n",
              "    </tr>\n",
              "    <tr>\n",
              "      <th>1611</th>\n",
              "      <td>44705.58472</td>\n",
              "      <td>391.470</td>\n",
              "      <td>391.65</td>\n",
              "      <td>390.850</td>\n",
              "      <td>390.9200</td>\n",
              "      <td>390.8159</td>\n",
              "      <td>Red</td>\n",
              "    </tr>\n",
              "    <tr>\n",
              "      <th>1612</th>\n",
              "      <td>44705.58611</td>\n",
              "      <td>390.920</td>\n",
              "      <td>391.22</td>\n",
              "      <td>390.840</td>\n",
              "      <td>391.1000</td>\n",
              "      <td>390.8731</td>\n",
              "      <td>White</td>\n",
              "    </tr>\n",
              "    <tr>\n",
              "      <th>1613</th>\n",
              "      <td>44705.58750</td>\n",
              "      <td>391.100</td>\n",
              "      <td>391.19</td>\n",
              "      <td>390.670</td>\n",
              "      <td>390.9600</td>\n",
              "      <td>390.9145</td>\n",
              "      <td>White</td>\n",
              "    </tr>\n",
              "    <tr>\n",
              "      <th>1614</th>\n",
              "      <td>44705.58873</td>\n",
              "      <td>390.960</td>\n",
              "      <td>391.40</td>\n",
              "      <td>390.950</td>\n",
              "      <td>391.3100</td>\n",
              "      <td>390.9773</td>\n",
              "      <td>Green</td>\n",
              "    </tr>\n",
              "  </tbody>\n",
              "</table>\n",
              "<p>1615 rows × 7 columns</p>\n",
              "</div>\n",
              "      <button class=\"colab-df-convert\" onclick=\"convertToInteractive('df-13cd455f-d659-4077-ac30-46140d3ed98d')\"\n",
              "              title=\"Convert this dataframe to an interactive table.\"\n",
              "              style=\"display:none;\">\n",
              "        \n",
              "  <svg xmlns=\"http://www.w3.org/2000/svg\" height=\"24px\"viewBox=\"0 0 24 24\"\n",
              "       width=\"24px\">\n",
              "    <path d=\"M0 0h24v24H0V0z\" fill=\"none\"/>\n",
              "    <path d=\"M18.56 5.44l.94 2.06.94-2.06 2.06-.94-2.06-.94-.94-2.06-.94 2.06-2.06.94zm-11 1L8.5 8.5l.94-2.06 2.06-.94-2.06-.94L8.5 2.5l-.94 2.06-2.06.94zm10 10l.94 2.06.94-2.06 2.06-.94-2.06-.94-.94-2.06-.94 2.06-2.06.94z\"/><path d=\"M17.41 7.96l-1.37-1.37c-.4-.4-.92-.59-1.43-.59-.52 0-1.04.2-1.43.59L10.3 9.45l-7.72 7.72c-.78.78-.78 2.05 0 2.83L4 21.41c.39.39.9.59 1.41.59.51 0 1.02-.2 1.41-.59l7.78-7.78 2.81-2.81c.8-.78.8-2.07 0-2.86zM5.41 20L4 18.59l7.72-7.72 1.47 1.35L5.41 20z\"/>\n",
              "  </svg>\n",
              "      </button>\n",
              "      \n",
              "  <style>\n",
              "    .colab-df-container {\n",
              "      display:flex;\n",
              "      flex-wrap:wrap;\n",
              "      gap: 12px;\n",
              "    }\n",
              "\n",
              "    .colab-df-convert {\n",
              "      background-color: #E8F0FE;\n",
              "      border: none;\n",
              "      border-radius: 50%;\n",
              "      cursor: pointer;\n",
              "      display: none;\n",
              "      fill: #1967D2;\n",
              "      height: 32px;\n",
              "      padding: 0 0 0 0;\n",
              "      width: 32px;\n",
              "    }\n",
              "\n",
              "    .colab-df-convert:hover {\n",
              "      background-color: #E2EBFA;\n",
              "      box-shadow: 0px 1px 2px rgba(60, 64, 67, 0.3), 0px 1px 3px 1px rgba(60, 64, 67, 0.15);\n",
              "      fill: #174EA6;\n",
              "    }\n",
              "\n",
              "    [theme=dark] .colab-df-convert {\n",
              "      background-color: #3B4455;\n",
              "      fill: #D2E3FC;\n",
              "    }\n",
              "\n",
              "    [theme=dark] .colab-df-convert:hover {\n",
              "      background-color: #434B5C;\n",
              "      box-shadow: 0px 1px 3px 1px rgba(0, 0, 0, 0.15);\n",
              "      filter: drop-shadow(0px 1px 2px rgba(0, 0, 0, 0.3));\n",
              "      fill: #FFFFFF;\n",
              "    }\n",
              "  </style>\n",
              "\n",
              "      <script>\n",
              "        const buttonEl =\n",
              "          document.querySelector('#df-13cd455f-d659-4077-ac30-46140d3ed98d button.colab-df-convert');\n",
              "        buttonEl.style.display =\n",
              "          google.colab.kernel.accessAllowed ? 'block' : 'none';\n",
              "\n",
              "        async function convertToInteractive(key) {\n",
              "          const element = document.querySelector('#df-13cd455f-d659-4077-ac30-46140d3ed98d');\n",
              "          const dataTable =\n",
              "            await google.colab.kernel.invokeFunction('convertToInteractive',\n",
              "                                                     [key], {});\n",
              "          if (!dataTable) return;\n",
              "\n",
              "          const docLinkHtml = 'Like what you see? Visit the ' +\n",
              "            '<a target=\"_blank\" href=https://colab.research.google.com/notebooks/data_table.ipynb>data table notebook</a>'\n",
              "            + ' to learn more about interactive tables.';\n",
              "          element.innerHTML = '';\n",
              "          dataTable['output_type'] = 'display_data';\n",
              "          await google.colab.output.renderOutput(dataTable, element);\n",
              "          const docLink = document.createElement('div');\n",
              "          docLink.innerHTML = docLinkHtml;\n",
              "          element.appendChild(docLink);\n",
              "        }\n",
              "      </script>\n",
              "    </div>\n",
              "  </div>\n",
              "  "
            ]
          },
          "metadata": {},
          "execution_count": 9
        }
      ],
      "source": [
        "import numpy as np\n",
        "import matplotlib.pyplot as plt\n",
        "import pandas as pd\n",
        "\n",
        "dt = pd.read_csv(\"https://raw.githubusercontent.com/SamPasco2024/stockdata/main/RedGreenWhite.csv\")\n",
        "#dataframe = dt.drop(\"Date\", axis =1 )\n",
        "dt"
      ]
    },
    {
      "cell_type": "code",
      "source": [
        "greens = 0\n",
        "reds = 0\n",
        "whites = 0\n",
        "for i in range(len(dt)-1):\n",
        "\n",
        "  if (dt[\"RWG\"][i] == \"Green\"):\n",
        "    greens+=1\n",
        "  elif (dt[\"RWG\"][i] == \"Red\"):\n",
        "    reds+=1\n",
        "  else:\n",
        "    whites +=1\n",
        "\n",
        "print(\"greens:\", greens)\n",
        "print(\"reds:\", reds)\n",
        "print(\"whites:\", whites)"
      ],
      "metadata": {
        "colab": {
          "base_uri": "https://localhost:8080/"
        },
        "id": "UVa3XwNCWqlz",
        "outputId": "8b6f5bcf-9b0d-4e41-ba18-6ce7118805e9"
      },
      "execution_count": null,
      "outputs": [
        {
          "output_type": "stream",
          "name": "stdout",
          "text": [
            "greens: 399\n",
            "reds: 406\n",
            "whites: 809\n"
          ]
        }
      ]
    },
    {
      "cell_type": "code",
      "source": [
        "redTHENgreen = 0\n",
        "greenTHENred = 0\n",
        "\n",
        "for i in range(len(dt)-1):\n",
        "\n",
        "  if (dt[\"RWG\"][i] == \"Red\") and (dt[\"RWG\"][i+1] == \"Green\"):\n",
        "    redTHENgreen+=1\n",
        "  \n",
        "  if (dt[\"RWG\"][i] == \"Green\") and (dt[\"RWG\"][i+1] == \"Red\"):\n",
        "    greenTHENred+=1\n",
        "\n",
        "print(\"redTHENgreen:\", redTHENgreen)\n",
        "print(\"greenTHENred:\", greenTHENred)"
      ],
      "metadata": {
        "colab": {
          "base_uri": "https://localhost:8080/"
        },
        "id": "1Xyf77Z_XPXW",
        "outputId": "0cae7b27-dee7-4146-8559-9f25be87ddd8"
      },
      "execution_count": null,
      "outputs": [
        {
          "output_type": "stream",
          "name": "stdout",
          "text": [
            "redTHENgreen: 42\n",
            "greenTHENred: 40\n"
          ]
        }
      ]
    },
    {
      "cell_type": "code",
      "source": [
        "plt.plot(dt['Close'])\n",
        "plt.plot(dt['FW Moving Average 25'])"
      ],
      "metadata": {
        "colab": {
          "base_uri": "https://localhost:8080/",
          "height": 283
        },
        "id": "ErzoCthTZxf0",
        "outputId": "88218264-723e-4780-d9da-0cca3ad145fd"
      },
      "execution_count": null,
      "outputs": [
        {
          "output_type": "execute_result",
          "data": {
            "text/plain": [
              "[<matplotlib.lines.Line2D at 0x7f59827dbc90>]"
            ]
          },
          "metadata": {},
          "execution_count": 27
        },
        {
          "output_type": "display_data",
          "data": {
            "text/plain": [
              "<Figure size 432x288 with 1 Axes>"
            ],
            "image/png": "[encoded data removed]"
          },
          "metadata": {
            "needs_background": "light"
          }
        }
      ]
    },
    {
      "cell_type": "code",
      "source": [
        "#Setting up Variables\n",
        "bankroll = 25000\n",
        "betON = False\n",
        "bankroll_log = []\n",
        "\n",
        "\n",
        "#For Loop\n",
        "for i in range(len(dt)-1):\n",
        "  \n",
        "  #GOING UP\n",
        "  #Buying\n",
        "  if (dt[\"Close\"][i] > dt[\"FW Moving Average 25\"][i] and betON == False):\n",
        "    bankroll = bankroll - dt[\"Close\"][i]\n",
        "    betON = True\n",
        "  #Selling on GreenthenRed\n",
        "  if (dt[\"RWG\"][i] == \"Green\") and (dt[\"RWG\"][i+1] == \"Red\" and betON == True):\n",
        "    bankroll = bankroll + dt[\"Close\"][i]\n",
        "\n",
        "  #GOING DOWN\n",
        "  #Shorting\n",
        "  if (dt[\"Close\"][i] < dt[\"FW Moving Average 25\"][i] and betON == False):\n",
        "    bankroll = bankroll + dt[\"Close\"][i]\n",
        "    betON = True\n",
        "  #Buying back on RedthenGreen\n",
        "  if (dt[\"RWG\"][i] == \"Red\") and (dt[\"RWG\"][i+1] == \"Green\" and betON == True):\n",
        "    bankroll = bankroll - dt[\"Close\"][i]\n",
        "  \n",
        "  bankroll_log.append(bankroll)\n",
        "  \n",
        "\n",
        "###Plotting\n",
        "my_array = np.array(bankroll_log)\n",
        "print(\"bankroll:\", bankroll)\n",
        "plt.plot(my_array)"
      ],
      "metadata": {
        "colab": {
          "base_uri": "https://localhost:8080/",
          "height": 301
        },
        "id": "yrft09Lgafw0",
        "outputId": "34d9a8a1-0830-4932-9ee9-93fdf9da5ca7"
      },
      "execution_count": 47,
      "outputs": [
        {
          "output_type": "stream",
          "name": "stdout",
          "text": [
            "bankroll: 24723.85180000001\n"
          ]
        },
        {
          "output_type": "execute_result",
          "data": {
            "text/plain": [
              "[<matplotlib.lines.Line2D at 0x7f5980826d90>]"
            ]
          },
          "metadata": {},
          "execution_count": 47
        },
        {
          "output_type": "display_data",
          "data": {
            "text/plain": [
              "<Figure size 432x288 with 1 Axes>"
            ],
            "image/png": "[encoded data removed]"
          },
          "metadata": {
            "needs_background": "light"
          }
        }
      ]
    }
  ]
}